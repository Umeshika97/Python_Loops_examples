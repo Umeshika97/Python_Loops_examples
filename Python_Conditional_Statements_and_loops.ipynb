{
  "nbformat": 4,
  "nbformat_minor": 0,
  "metadata": {
    "colab": {
      "provenance": [],
      "authorship_tag": "ABX9TyMkAu3Sc2pKK4ixUJuNZEqY",
      "include_colab_link": true
    },
    "kernelspec": {
      "name": "python3",
      "display_name": "Python 3"
    },
    "language_info": {
      "name": "python"
    }
  },
  "cells": [
    {
      "cell_type": "markdown",
      "metadata": {
        "id": "view-in-github",
        "colab_type": "text"
      },
      "source": [
        "<a href=\"https://colab.research.google.com/github/Umeshika97/Python_Loops_examples/blob/main/Python_Conditional_Statements_and_loops.ipynb\" target=\"_parent\"><img src=\"https://colab.research.google.com/assets/colab-badge.svg\" alt=\"Open In Colab\"/></a>"
      ]
    },
    {
      "cell_type": "code",
      "execution_count": 2,
      "metadata": {
        "id": "lu3idqJnXBVb"
      },
      "outputs": [],
      "source": [
        "import numpy as np\n",
        "import random"
      ]
    },
    {
      "cell_type": "code",
      "source": [
        "n1=[]\n",
        "for i in range(1500,2701):\n",
        "  if i%7==0 and i%5==0:\n",
        "    n1.append(i)\n",
        "print(n1)"
      ],
      "metadata": {
        "colab": {
          "base_uri": "https://localhost:8080/"
        },
        "id": "VEnPF7kPapn3",
        "outputId": "d31bb8aa-46b6-41c9-8c68-fdfcecda0341"
      },
      "execution_count": 2,
      "outputs": [
        {
          "output_type": "stream",
          "name": "stdout",
          "text": [
            "[1505, 1540, 1575, 1610, 1645, 1680, 1715, 1750, 1785, 1820, 1855, 1890, 1925, 1960, 1995, 2030, 2065, 2100, 2135, 2170, 2205, 2240, 2275, 2310, 2345, 2380, 2415, 2450, 2485, 2520, 2555, 2590, 2625, 2660, 2695]\n"
          ]
        }
      ]
    },
    {
      "cell_type": "code",
      "source": [
        "\n",
        "temp=input(\"input the temperature  \")\n",
        "degree= int(temp[:-1])\n",
        "i_coven= temp[-1]\n",
        "\n",
        "if i_coven.upper() == \"F\":\n",
        "  result=int(round((5/9)*(degree-32)))\n",
        "  o_coven=\"Celsius\"\n",
        "elif i_coven.upper() == \"C\":  \n",
        "  result=int(round((9*degree/5)+32))\n",
        "  o_coven=\"Fahrenheit\"\n",
        "else:\n",
        "  # o_coven=\"\"\n",
        "  # result=\"\"\n",
        "  print(\"Input proper convention\")\n",
        "  quit()    \n",
        "print(\"The temperature in \",o_coven,\"is\",result,\"degrees.\")  "
      ],
      "metadata": {
        "colab": {
          "base_uri": "https://localhost:8080/"
        },
        "id": "ZD3UDXIXb37l",
        "outputId": "222c5376-cfb0-47d0-f329-4cd05066368f"
      },
      "execution_count": 1,
      "outputs": [
        {
          "output_type": "stream",
          "name": "stdout",
          "text": [
            "input the temperature  112C\n",
            "The temperature in  Fahrenheit is 234 degrees.\n"
          ]
        }
      ]
    },
    {
      "cell_type": "code",
      "source": [
        "targetno,guessnum=random.randint(1,10),0\n",
        "while targetno!=guessnum:\n",
        "  guessnum=int(input(\"Guess a number between 1 and 10 until you get it right\"))\n",
        "print(\"well guessessed!\")  "
      ],
      "metadata": {
        "colab": {
          "base_uri": "https://localhost:8080/"
        },
        "id": "2jx98t1Lf8E-",
        "outputId": "1e3b13f7-fa5d-4ddf-ed8d-bc9d3f431cd4"
      },
      "execution_count": 8,
      "outputs": [
        {
          "output_type": "stream",
          "name": "stdout",
          "text": [
            "Guess a number between 1 and 10 until you get it right9\n",
            "Guess a number between 1 and 10 until you get it right2\n",
            "Guess a number between 1 and 10 until you get it right5\n",
            "Guess a number between 1 and 10 until you get it right4\n",
            "Guess a number between 1 and 10 until you get it right8\n",
            "Guess a number between 1 and 10 until you get it right6\n",
            "Guess a number between 1 and 10 until you get it right1\n",
            "Guess a number between 1 and 10 until you get it right3\n",
            "Guess a number between 1 and 10 until you get it right10\n",
            "Guess a number between 1 and 10 until you get it right7\n",
            "well guessessed!\n"
          ]
        }
      ]
    },
    {
      "cell_type": "code",
      "source": [
        "n=5\n",
        "for i in range(n):\n",
        "  for j in range(i):\n",
        "    print('*',end=\" \")\n",
        "  print('')  \n",
        "for i in range(n,0,-1):  \n",
        "  for j in range(i):\n",
        "    print('*',end=\"\")\n",
        "  print('')  "
      ],
      "metadata": {
        "colab": {
          "base_uri": "https://localhost:8080/"
        },
        "id": "YI3wwm9aheY0",
        "outputId": "6618e9de-60d7-4296-b56e-698cd8d9371a"
      },
      "execution_count": 9,
      "outputs": [
        {
          "output_type": "stream",
          "name": "stdout",
          "text": [
            "\n",
            "* \n",
            "* * \n",
            "* * * \n",
            "* * * * \n",
            "*****\n",
            "****\n",
            "***\n",
            "**\n",
            "*\n"
          ]
        }
      ]
    },
    {
      "cell_type": "code",
      "source": [
        "word=input(\"Input Reverse word:\")\n",
        "for char in range(len(word)-1,-1,-1):\n",
        " print(word[char],end=\" \")\n",
        "\n",
        "print(\"\\n\") \n"
      ],
      "metadata": {
        "colab": {
          "base_uri": "https://localhost:8080/"
        },
        "id": "W9f-Z6pMj8Q3",
        "outputId": "6783d3cf-5c4a-444e-e788-316315a9ca48"
      },
      "execution_count": 10,
      "outputs": [
        {
          "output_type": "stream",
          "name": "stdout",
          "text": [
            "Input Reverse word:umi\n",
            "i m u \n",
            "\n"
          ]
        }
      ]
    },
    {
      "cell_type": "code",
      "source": [
        "numbers=np.arange(1,11,1)\n",
        "ce=0;co=0;\n",
        "for n in numbers:\n",
        "  if n%2==0:\n",
        "    print(n,\" is even number\")\n",
        "    ce=ce+1\n",
        "  else:\n",
        "    print(n,\" is odd number\")  \n",
        "    co=co+1\n",
        "\n",
        "print(\"No of even numbers\",ce) \n",
        "print(\"No of odd numbers\",co)   "
      ],
      "metadata": {
        "colab": {
          "base_uri": "https://localhost:8080/"
        },
        "id": "hlndjtLTljzQ",
        "outputId": "3ad5458a-9aae-4200-e907-27d9f60021c0"
      },
      "execution_count": 11,
      "outputs": [
        {
          "output_type": "stream",
          "name": "stdout",
          "text": [
            "1  is odd number\n",
            "2  is even number\n",
            "3  is odd number\n",
            "4  is even number\n",
            "5  is odd number\n",
            "6  is even number\n",
            "7  is odd number\n",
            "8  is even number\n",
            "9  is odd number\n",
            "10  is even number\n",
            "No of even numbers 5\n",
            "No of odd numbers 5\n"
          ]
        }
      ]
    },
    {
      "cell_type": "code",
      "source": [
        "datalist=[1432,11.23,1+2j,True,'w3resource',(0,-1),[5,12],{\"class\":'V',\"section\":'A'}]\n",
        "for item in datalist:\n",
        "  print(\"Type of \",item,\" is\", type(item))"
      ],
      "metadata": {
        "colab": {
          "base_uri": "https://localhost:8080/"
        },
        "id": "fPm3Gs7ipU0F",
        "outputId": "7271f601-33b1-49b8-a551-62e842f3eb3c"
      },
      "execution_count": 12,
      "outputs": [
        {
          "output_type": "stream",
          "name": "stdout",
          "text": [
            "Type of  1432  is <class 'int'>\n",
            "Type of  11.23  is <class 'float'>\n",
            "Type of  (1+2j)  is <class 'complex'>\n",
            "Type of  True  is <class 'bool'>\n",
            "Type of  w3resource  is <class 'str'>\n",
            "Type of  (0, -1)  is <class 'tuple'>\n",
            "Type of  [5, 12]  is <class 'list'>\n",
            "Type of  {'class': 'V', 'section': 'A'}  is <class 'dict'>\n"
          ]
        }
      ]
    },
    {
      "cell_type": "code",
      "source": [
        "for i in range(7):\n",
        "  if (i == 3 or i == 6):\n",
        "    continue\n",
        "  print(i,end=\"\")\n",
        "print(\"\\n\")\n",
        "\n"
      ],
      "metadata": {
        "colab": {
          "base_uri": "https://localhost:8080/"
        },
        "id": "7L0tCwLQqswn",
        "outputId": "05fbfc23-0842-4dbb-f900-04ac02ba8ff4"
      },
      "execution_count": 13,
      "outputs": [
        {
          "output_type": "stream",
          "name": "stdout",
          "text": [
            "01245\n",
            "\n"
          ]
        }
      ]
    },
    {
      "cell_type": "code",
      "source": [
        "x=0;y=1;\n",
        "while y<50:\n",
        "  print(y)\n",
        "  x,y=y,y+x"
      ],
      "metadata": {
        "colab": {
          "base_uri": "https://localhost:8080/"
        },
        "id": "pgFrWJ-FSkIT",
        "outputId": "98f45896-7d3f-472f-d2f0-e88868558804"
      },
      "execution_count": 17,
      "outputs": [
        {
          "output_type": "stream",
          "name": "stdout",
          "text": [
            "1\n",
            "1\n",
            "2\n",
            "3\n",
            "5\n",
            "8\n",
            "13\n",
            "21\n",
            "34\n"
          ]
        }
      ]
    },
    {
      "cell_type": "code",
      "source": [
        "for i in range(1,51):\n",
        "  if (i%3==0 and i%5==0):\n",
        "    print(i,\"FizzBuzz\")\n",
        "    continue\n",
        "  elif (i%5==0):\n",
        "    print(i,\"Buzz\")  \n",
        "    continue\n",
        "  elif (i%3==0):\n",
        "    print(i,\"Fizz\")\n",
        "    continue"
      ],
      "metadata": {
        "colab": {
          "base_uri": "https://localhost:8080/"
        },
        "id": "hMOXwfG6Tdco",
        "outputId": "64e4ca54-d146-4db7-e7bc-d937b3aacf97"
      },
      "execution_count": 22,
      "outputs": [
        {
          "output_type": "stream",
          "name": "stdout",
          "text": [
            "3 Fizz\n",
            "5 Buzz\n",
            "6 Fizz\n",
            "9 Fizz\n",
            "10 Buzz\n",
            "12 Fizz\n",
            "15 FizzBuzz\n",
            "18 Fizz\n",
            "20 Buzz\n",
            "21 Fizz\n",
            "24 Fizz\n",
            "25 Buzz\n",
            "27 Fizz\n",
            "30 FizzBuzz\n",
            "33 Fizz\n",
            "35 Buzz\n",
            "36 Fizz\n",
            "39 Fizz\n",
            "40 Buzz\n",
            "42 Fizz\n",
            "45 FizzBuzz\n",
            "48 Fizz\n",
            "50 Buzz\n"
          ]
        }
      ]
    },
    {
      "cell_type": "code",
      "source": [
        "row_num=int(input(\"Input number of rows:\"))\n",
        "col_num=int(input(\"Input number of columns:\"))\n",
        "multi_list=[[0 for col in range(col_num)]for row in range(row_num)]\n",
        "for row in range(row_num):\n",
        "  for col in range(col_num):\n",
        "    multi_list[row][col]=row*col\n",
        "print(multi_list)    "
      ],
      "metadata": {
        "colab": {
          "base_uri": "https://localhost:8080/"
        },
        "id": "xhRi6dbOVRHU",
        "outputId": "ed37ea37-7f2f-4666-e7c6-ce4baaea5a16"
      },
      "execution_count": 5,
      "outputs": [
        {
          "output_type": "stream",
          "name": "stdout",
          "text": [
            "Input number of rows:2\n",
            "Input number of columns:9\n",
            "[[0, 0, 0, 0, 0, 0, 0, 0, 0], [0, 1, 2, 3, 4, 5, 6, 7, 8]]\n"
          ]
        }
      ]
    },
    {
      "cell_type": "code",
      "source": [
        "# lines=[]\n",
        "# while True:\n",
        "#   l=string(input())\n",
        "#   if l:\n",
        "#     lines.append(l.upper())\n",
        "#   else:\n",
        "#     break;\n",
        "\n",
        "# for l in lines:\n",
        "#   print(l)      \n",
        "items=[]\n",
        "num=[x for x in input().split(',')]\n",
        "for p in num:\n",
        "  x=int(p)\n",
        "  if not x%5:\n",
        "    items.append(p)\n",
        "print(','.join(items))    "
      ],
      "metadata": {
        "colab": {
          "base_uri": "https://localhost:8080/"
        },
        "id": "RlBT9BRomvuW",
        "outputId": "f18e155a-13e8-43bb-d1b9-3aa6e1fce884"
      },
      "execution_count": 6,
      "outputs": [
        {
          "output_type": "stream",
          "name": "stdout",
          "text": [
            "6\n",
            "\n"
          ]
        }
      ]
    },
    {
      "cell_type": "code",
      "source": [
        "s=input(\"Input a string:\")\n",
        "d=l=0;\n",
        "for c in s:\n",
        "  if c.isdigit():\n",
        "    d=d+1\n",
        "  elif c.isalpha():\n",
        "    l=l+1\n",
        "  else:\n",
        "    pass\n",
        "print(\"Letters\",l)\n",
        "print(\"Digits\",d)        "
      ],
      "metadata": {
        "colab": {
          "base_uri": "https://localhost:8080/"
        },
        "id": "TV48exjB7px_",
        "outputId": "44142ebe-66e6-427b-ecd4-fe4eb3d9e2cb"
      },
      "execution_count": 7,
      "outputs": [
        {
          "output_type": "stream",
          "name": "stdout",
          "text": [
            "Input a string:u7gh8\n",
            "Letters 3\n",
            "Digits 2\n"
          ]
        }
      ]
    },
    {
      "cell_type": "code",
      "source": [],
      "metadata": {
        "id": "FDBwUZwyTxWj"
      },
      "execution_count": null,
      "outputs": []
    }
  ]
}